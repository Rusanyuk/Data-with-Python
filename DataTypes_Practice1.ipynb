{
  "nbformat": 4,
  "nbformat_minor": 0,
  "metadata": {
    "colab": {
      "provenance": [],
      "include_colab_link": true
    },
    "kernelspec": {
      "name": "python3",
      "display_name": "Python 3"
    },
    "language_info": {
      "name": "python"
    }
  },
  "cells": [
    {
      "cell_type": "markdown",
      "metadata": {
        "id": "view-in-github",
        "colab_type": "text"
      },
      "source": [
        "<a href=\"https://colab.research.google.com/github/Rusanyuk/Data-with-Python/blob/main/DataTypes_Practice1.ipynb\" target=\"_parent\"><img src=\"https://colab.research.google.com/assets/colab-badge.svg\" alt=\"Open In Colab\"/></a>"
      ]
    },
    {
      "cell_type": "markdown",
      "source": [
        "<a href=\"https://colab.research.google.com/github/StefanMeyer7/Python-Fundamentals/blob/main/DataTypes_Practice1.ipynb\" target=\"_parent\"><img src=\"https://colab.research.google.com/assets/colab-badge.svg\" alt=\"Open In Colab\"/></a>"
      ],
      "metadata": {
        "id": "hypbENCo_DGn"
      }
    },
    {
      "cell_type": "markdown",
      "source": [
        "# Data types and Variables\n",
        "---\n",
        "\n",
        "\n",
        "**Recap**: Variables can store data of different types.  \n",
        "*   **int** (whole numbers, e.g. 4, 523, 1984)  \n",
        "*   **float** (decimal numbers e.g. 4.3, )  \n",
        "*   **str** (strings of characters)  \n",
        "*   **bool** (True or False)  \n",
        "\n",
        "and can be stored in groups (**lists, tuples, dictionaries,** etc)\n",
        "\n",
        "You can '**assign**' a value to a variable using the **=** sign.\n",
        "\n",
        "Once a variable has been assigned a value it will decide what type it is from that value. For example:  \n",
        "firstname = “Monty”  \n",
        "age = 20  \n",
        "\n",
        "*firstname* is now a *str* variable (a string of characters) *age* is now an *int* variable (a whole number)  \n",
        "\n",
        "Once a variable knows its type you will only be able to use it for processes that are relevant to that type. For example, you won't be able to add firstname and age together because firstname is a word and age is a number. You would, however, be able to add 1 to the age  \n",
        "\n",
        "age = age + 1  \n",
        "\n",
        "age is now 1 bigger than it was before\n"
      ],
      "metadata": {
        "id": "mRyHu4xaxEoS"
      }
    },
    {
      "cell_type": "markdown",
      "source": [
        "## Using variables of different types and functions\n",
        "----\n",
        "### Exercise 1\n",
        "The cell below contains a function. Functions are named sets of instructions that do one particular thing, often creating a new set of data but sometimes just setting something up.  \n",
        "\n",
        "A function starts with the keyword def (short for define or definition). All instructions below the definition are indented and this indicates that they are part of that function. A function runs when its name is used outside the function (here it is not indented). The indentation is important, note where the code is and isn't indented.  \n",
        "\n",
        "*  create a variable called **name** and assign it a value (any name)  \n",
        "*  print the message “Hello” name  \n",
        "*  change the value of `name` and run the code again to get a new message"
      ],
      "metadata": {
        "id": "ocamkNCl6mvL"
      }
    },
    {
      "cell_type": "code",
      "source": [
        "def print_welcome():\n",
        "   # create the variable called name below here (indented like this line) and add the instruction print(\"Hello\",name)\n",
        "  name=input(\"Enter your name: \")\n",
        "  print(\"Hello\", name)\n",
        "print_welcome()"
      ],
      "metadata": {
        "id": "SQYzVslJ6qg0",
        "colab": {
          "base_uri": "https://localhost:8080/"
        },
        "outputId": "2a025ca6-b1c8-4224-e03e-cf287700e7eb"
      },
      "execution_count": 6,
      "outputs": [
        {
          "output_type": "stream",
          "name": "stdout",
          "text": [
            "Enter your name: Alex\n",
            "Hello Alex\n"
          ]
        }
      ]
    },
    {
      "cell_type": "markdown",
      "source": [],
      "metadata": {
        "id": "dizDkPd0xA4Y"
      }
    },
    {
      "cell_type": "markdown",
      "source": [
        "----\n",
        "### Exercise 2\n",
        "*  create two variables **num1** and **num2** and assign them each a whole number  \n",
        "*  create a third variable **total** which will store the sum of num1 + num2  \n",
        "*  run the code.  \n",
        "\n",
        "Change the value of one of the numbers and run the code again to get new messages and a new total."
      ],
      "metadata": {
        "id": "wHAxQz8V88HX"
      }
    },
    {
      "cell_type": "code",
      "source": [
        "def print_total():\n",
        "  # add your code below here\n",
        "  num1=int(input(\"Please enter a number: \"))\n",
        "  num2=int(input(\"Please enter another number: \"))\n",
        "  total=num1+num2\n",
        "  print(num1, \"+\", num2, \"=\", total)\n",
        "\n",
        "print_total()"
      ],
      "metadata": {
        "id": "4giQISUx89DT",
        "colab": {
          "base_uri": "https://localhost:8080/"
        },
        "outputId": "5b9e5b62-a006-4b1c-8005-6956c98661f2"
      },
      "execution_count": 7,
      "outputs": [
        {
          "output_type": "stream",
          "name": "stdout",
          "text": [
            "Please enter a number: 12\n",
            "Please enter another number: 13\n",
            "12 + 13 = 25\n"
          ]
        }
      ]
    },
    {
      "cell_type": "markdown",
      "source": [
        "---\n",
        "### Exercise 3 - variables of different types\n",
        "*  create a variable called **name** and assign it the value \"Billy\"  \n",
        "*  create a variable called **age** and assign it the value 18  \n",
        "*  print a message \"Hello `name` you are `age` years old\"\n",
        "\n",
        "Test input:  \n",
        "Billy  \n",
        "18  \n",
        "\n",
        "Expected output:  \n",
        "Hello Billy you are 18 years old"
      ],
      "metadata": {
        "id": "YCqs-6J28_0s"
      }
    },
    {
      "cell_type": "code",
      "source": [
        "def print_info():\n",
        "   # add your code below here\n",
        "  name=input(\"Please enter your name: \")\n",
        "  age=int(input(\"Please enter your age: \"))\n",
        "  print(\"Hello\", name, \"you are\", age, \"years old\")\n",
        "print_info()"
      ],
      "metadata": {
        "id": "LB_W_V3t9B8Y",
        "colab": {
          "base_uri": "https://localhost:8080/"
        },
        "outputId": "7db1ae30-9d4e-40a5-8f3c-80da0d0aa009"
      },
      "execution_count": 8,
      "outputs": [
        {
          "output_type": "stream",
          "name": "stdout",
          "text": [
            "Please enter your name: Billy\n",
            "Please enter your age: 18\n",
            "Hello Billy you are 18 years old\n"
          ]
        }
      ]
    },
    {
      "cell_type": "markdown",
      "source": [
        "---\n",
        "### Exercise 4 - float variables (and writing your own function)\n",
        "Write a function called **print_price()** which will:  \n",
        "\n",
        "*  create a variable called **product** and assign the value \"Chocolate Bar\"  \n",
        "*  create a variable called **cost** and assign the value 1.39  \n",
        "*  print the message `product`, \"costs\", \"£\", `cost`  \n",
        "\n",
        "Expected output:  \n",
        "Chocolate Bar costs £ 1.39"
      ],
      "metadata": {
        "id": "Rl6GHdk79K8i"
      }
    },
    {
      "cell_type": "code",
      "source": [
        "def print_price():\n",
        "# Write a function called print_price()\n",
        "  product=\"Chocolate Bar\"\n",
        "  cost=1.39\n",
        "  print(product, \"costs\", \"£\", cost)\n",
        "print_price()"
      ],
      "metadata": {
        "id": "T_ybVS0e9Ms6",
        "colab": {
          "base_uri": "https://localhost:8080/"
        },
        "outputId": "de4ea0e6-f116-4120-f862-89f846589071"
      },
      "execution_count": 13,
      "outputs": [
        {
          "output_type": "stream",
          "name": "stdout",
          "text": [
            "Chocolate Bar costs £ 1.39\n"
          ]
        }
      ]
    },
    {
      "cell_type": "markdown",
      "source": [
        "---\n",
        "### Exercise 5 - concatenating strings\n",
        "Write a function called **print_full_name()** which will:  \n",
        "\n",
        "*  create variable called **name** and assign it the value \"Monty\"  \n",
        "*  create a variable called **surname** and assign it the value \"Python\"  \n",
        "*  create a variable called **full_name** and assign it the value `name` + \" \" + `surname`  \n",
        "*  print the `full_name`  \n",
        "\n",
        "Expected output:  \n",
        "Monty Python"
      ],
      "metadata": {
        "id": "iBm2_y2U9RBW"
      }
    },
    {
      "cell_type": "code",
      "source": [
        "def print_full_name():\n",
        "# Write a function called print_full_name()\n",
        "    name=\"Monty\"\n",
        "    surname=\"Python\"\n",
        "    full_name=(name + \" \" + surname)\n",
        "    print(full_name)\n",
        "print_full_name()"
      ],
      "metadata": {
        "id": "J3j5BJHe9R3Z",
        "colab": {
          "base_uri": "https://localhost:8080/"
        },
        "outputId": "48df63f2-8391-4620-af02-da915f4339a2"
      },
      "execution_count": 11,
      "outputs": [
        {
          "output_type": "stream",
          "name": "stdout",
          "text": [
            "Monty Python\n"
          ]
        }
      ]
    }
  ]
}