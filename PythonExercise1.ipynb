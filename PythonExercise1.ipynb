{
  "nbformat": 4,
  "nbformat_minor": 0,
  "metadata": {
    "colab": {
      "provenance": [],
      "include_colab_link": true
    },
    "kernelspec": {
      "name": "python3",
      "display_name": "Python 3"
    },
    "language_info": {
      "name": "python"
    }
  },
  "cells": [
    {
      "cell_type": "markdown",
      "metadata": {
        "id": "view-in-github",
        "colab_type": "text"
      },
      "source": [
        "<a href=\"https://colab.research.google.com/github/Rusanyuk/Data-with-Python/blob/main/PythonExercise1.ipynb\" target=\"_parent\"><img src=\"https://colab.research.google.com/assets/colab-badge.svg\" alt=\"Open In Colab\"/></a>"
      ]
    },
    {
      "cell_type": "markdown",
      "source": [
        "1A. Write a program to add the two numbers 9 and 13."
      ],
      "metadata": {
        "id": "Y9kDXsgJh-Xk"
      }
    },
    {
      "cell_type": "code",
      "execution_count": 1,
      "metadata": {
        "id": "9YN0LOPvhNSI",
        "colab": {
          "base_uri": "https://localhost:8080/"
        },
        "outputId": "d01abdc1-441f-401c-f1e2-f9eb1216407d"
      },
      "outputs": [
        {
          "output_type": "stream",
          "name": "stdout",
          "text": [
            "22\n"
          ]
        }
      ],
      "source": [
        "#Write program here\n",
        "num1 = 9\n",
        "num2 = 13\n",
        "sum = num1 + num2\n",
        "\n",
        "print(sum)"
      ]
    },
    {
      "cell_type": "markdown",
      "source": [
        "1B. Write a python program to multiply the two numbers 4 and 5."
      ],
      "metadata": {
        "id": "7WS5GzyIiXO8"
      }
    },
    {
      "cell_type": "code",
      "source": [
        "#Write program here\n",
        "num1 = 4\n",
        "num2 = 5\n",
        "sum = num1 * num2\n",
        "\n",
        "print(sum)"
      ],
      "metadata": {
        "id": "a4vrN63kich6",
        "colab": {
          "base_uri": "https://localhost:8080/"
        },
        "outputId": "8a08146c-e91b-4e24-e2d9-5c62ade09f9b"
      },
      "execution_count": 2,
      "outputs": [
        {
          "output_type": "stream",
          "name": "stdout",
          "text": [
            "20\n"
          ]
        }
      ]
    },
    {
      "cell_type": "markdown",
      "source": [
        "1C. Write a program that calculates the annual salary of an employee after it increases by 10%. (Initial annual salary £42,000)"
      ],
      "metadata": {
        "id": "X61a4vTIi3oz"
      }
    },
    {
      "cell_type": "code",
      "source": [
        "#Write program here\n",
        "initial_salary = 42000\n",
        "new_salary = round(initial_salary * 1.10)\n",
        "\n",
        "print(new_salary)"
      ],
      "metadata": {
        "id": "Ipi3jrRGi8Yj",
        "colab": {
          "base_uri": "https://localhost:8080/"
        },
        "outputId": "b4762fc3-c9d0-4d5f-9adc-fb9eb9f9cece"
      },
      "execution_count": 4,
      "outputs": [
        {
          "output_type": "stream",
          "name": "stdout",
          "text": [
            "46200\n"
          ]
        }
      ]
    },
    {
      "cell_type": "markdown",
      "source": [
        "2A. Write a python program that finds the volume of a cuboid with length 2m, width 3m and height 5m."
      ],
      "metadata": {
        "id": "E8ZB8jBSi8nb"
      }
    },
    {
      "cell_type": "code",
      "source": [
        "#Write program here\n",
        "length = 2\n",
        "width = 3\n",
        "height = 5\n",
        "volume = length * width * height\n",
        "\n",
        "print(volume)"
      ],
      "metadata": {
        "id": "IZ5ro6s9jCx8",
        "colab": {
          "base_uri": "https://localhost:8080/"
        },
        "outputId": "29b07745-9911-4427-9b37-d5dd8e8bac93"
      },
      "execution_count": 5,
      "outputs": [
        {
          "output_type": "stream",
          "name": "stdout",
          "text": [
            "30\n"
          ]
        }
      ]
    },
    {
      "cell_type": "markdown",
      "source": [
        "2B. Write a program that finds the area of a circle that has a radius of 4m. (You can take pi as being 3.14)"
      ],
      "metadata": {
        "id": "mgfDFNxBjC78"
      }
    },
    {
      "cell_type": "code",
      "source": [
        "#Write program here\n",
        "r = 4\n",
        "pi = 3.14\n",
        "area=(pi*(r**2))\n",
        "\n",
        "print(area)"
      ],
      "metadata": {
        "id": "YMRx47ktjDD7",
        "colab": {
          "base_uri": "https://localhost:8080/"
        },
        "outputId": "0cabcbdd-b144-416d-f590-b0dc1fd3e41a"
      },
      "execution_count": 7,
      "outputs": [
        {
          "output_type": "stream",
          "name": "stdout",
          "text": [
            "50.24\n"
          ]
        }
      ]
    },
    {
      "cell_type": "markdown",
      "source": [
        "2C. Write a program that finds the volume of a cone of radius 2m and height 5m. (You can take pi as being 3.14)"
      ],
      "metadata": {
        "id": "6lMyZAmzjDLN"
      }
    },
    {
      "cell_type": "code",
      "source": [
        "#Write program here\n",
        "radius = 2\n",
        "height = 5\n",
        "pi = 3.14\n",
        "volume = (pi*(radius**2)*height)/3\n",
        "print(round(volume,2))"
      ],
      "metadata": {
        "id": "AX52qgBzjDTr",
        "colab": {
          "base_uri": "https://localhost:8080/"
        },
        "outputId": "63ae9570-b0bb-4be8-def7-c1dcddb8e912"
      },
      "execution_count": 8,
      "outputs": [
        {
          "output_type": "stream",
          "name": "stdout",
          "text": [
            "20.93\n"
          ]
        }
      ]
    },
    {
      "cell_type": "markdown",
      "source": [
        "2D. Write a python program that uses a loop to find the factorial of 5."
      ],
      "metadata": {
        "id": "iSdhsrKLjMIb"
      }
    },
    {
      "cell_type": "code",
      "source": [
        "#Write program here\n",
        "factorial = 1\n",
        "for x in range(1, 6):\n",
        "  factorial = factorial * x\n",
        "\n",
        "print(factorial)"
      ],
      "metadata": {
        "id": "AAD9R7cfjKb0",
        "colab": {
          "base_uri": "https://localhost:8080/"
        },
        "outputId": "9cce1870-8364-447c-baff-78d76fd5e394"
      },
      "execution_count": 11,
      "outputs": [
        {
          "output_type": "stream",
          "name": "stdout",
          "text": [
            "120\n"
          ]
        }
      ]
    }
  ]
}