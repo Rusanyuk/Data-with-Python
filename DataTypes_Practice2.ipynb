{
  "nbformat": 4,
  "nbformat_minor": 0,
  "metadata": {
    "colab": {
      "provenance": [],
      "include_colab_link": true
    },
    "kernelspec": {
      "name": "python3",
      "display_name": "Python 3"
    },
    "language_info": {
      "name": "python"
    }
  },
  "cells": [
    {
      "cell_type": "markdown",
      "metadata": {
        "id": "view-in-github",
        "colab_type": "text"
      },
      "source": [
        "<a href=\"https://colab.research.google.com/github/Rusanyuk/Data-with-Python/blob/main/DataTypes_Practice2.ipynb\" target=\"_parent\"><img src=\"https://colab.research.google.com/assets/colab-badge.svg\" alt=\"Open In Colab\"/></a>"
      ]
    },
    {
      "cell_type": "markdown",
      "source": [
        "<a href=\"https://colab.research.google.com/github/StefanMeyer7/Python-Fundamentals/blob/main/DataTypes_Practice1.ipynb\" target=\"_parent\"><img src=\"https://colab.research.google.com/assets/colab-badge.svg\" alt=\"Open In Colab\"/></a>"
      ],
      "metadata": {
        "id": "hypbENCo_DGn"
      }
    },
    {
      "cell_type": "markdown",
      "source": [
        "# Data Types and Operators\n",
        "\n",
        "---"
      ],
      "metadata": {
        "id": "CDpxVUXkxXQX"
      }
    },
    {
      "cell_type": "markdown",
      "source": [
        "# Changing Data Input Type\n",
        "**Recap**: to get input from the user and store it in a variable, use the instruction  \n",
        "\n",
        "*variableName = input(\"message asking user for required information\")  *\n",
        "\n",
        "**Remember**: Unless you state otherwise, all input is String data  \n",
        "\n",
        "Integers are whole numbers and can be both positive or negative.  \n",
        "Floats are decimal numbers which have a 'floating' decimal point.  \n",
        "To change the input data type, we can specify the type of data we would like from the user  \n",
        "\n",
        "*variableNameInteger = int(input(\"Please input a whole number \"))*  \n",
        "\n",
        "*variableNameFloat = float(input(\"Please input a decimal number \")) *\n",
        "\n",
        "By using either *int()* or *float()* it tells Python what kind of data will be stored in the variable  \n"
      ],
      "metadata": {
        "id": "92y24d-ZxY4s"
      }
    },
    {
      "cell_type": "code",
      "source": [],
      "metadata": {
        "id": "nhX-ra6QxjuM"
      },
      "execution_count": null,
      "outputs": []
    },
    {
      "cell_type": "markdown",
      "source": [
        "---\n",
        "### Exercise 1 - changing data type\n",
        "Write a function called **print_details()** which will:  \n",
        "\n",
        "*  ask the user their name, age and height in metres  \n",
        "*  print the message Hello `name` you are `age` years old and `height` metres tall  \n",
        "\n",
        "*Remember to specify the correct data type for each input*   \n",
        "\n",
        "Test Input:  \n",
        "Jean  \n",
        "52  \n",
        "2.3  \n",
        "\n",
        "Expected Output:  \n",
        "Hello Jean you are 52 years old and 2.3 metres tall\n"
      ],
      "metadata": {
        "id": "RSZmCs9cxlZg"
      }
    },
    {
      "cell_type": "code",
      "source": [
        "def print_details():\n",
        "  # Write a function called print_details()\n",
        "  name=input(\"Please enter your name: \")\n",
        "  age=int(input(\"Please enter your age: \"))\n",
        "  height=float(input(\"Please enter your height: \"))\n",
        "  print(\"Hello\", name, \"you are\", age, \"years old and\", height, \"metres tall\")\n",
        "\n",
        "print_details()"
      ],
      "metadata": {
        "id": "7HrgCotAxnZk",
        "colab": {
          "base_uri": "https://localhost:8080/"
        },
        "outputId": "ba1a3685-d8b3-4605-9561-93d74715680d"
      },
      "execution_count": null,
      "outputs": [
        {
          "output_type": "stream",
          "name": "stdout",
          "text": [
            "Please enter your name: Jean\n",
            "Please enter your age: 52\n",
            "Please enter your height: 2.3\n",
            "Hello Jean you are 52 years old and 2.3 metres tall\n"
          ]
        }
      ]
    },
    {
      "cell_type": "markdown",
      "source": [
        "---\n",
        "### Exercise 2 - boolean variables\n",
        "\n",
        "A **boolean variable** can hold just two values, True or False.  This type of variable is hugely valuable in holding onto the state of things.  For example, a boolean variable called loggedIn might hold True if the user is loggedIn and False otherwise.  This means that at any point while a program is running, it is possible to ask the question \"Is the user logged in?\".  The answer will depend on the value of the variable loggedIn.  \n",
        "\n",
        "Although we will use the values True and False as words, Python stores them as 1 for true and 0 for false.   \n",
        "\n",
        "To demonstrate this, write a function called **show_trueFalse()** which will:  \n",
        "\n",
        "*  create a variable called **logged_in** and assign it the value True (use the assignment operator **=** the same as usual)  \n",
        "*  create a variable called **logged_in_as_num** and assign it the value int(True)  \n",
        "*  print `logged_in` and `logged_in_as_num`\n",
        "\n",
        "Expected output:  \n",
        "True 1\n",
        "\n",
        "When you have run this, change True to False in both places.\n",
        "\n",
        "Expected output:  \n",
        "False 0\n"
      ],
      "metadata": {
        "id": "RoBOV7gWxn2A"
      }
    },
    {
      "cell_type": "code",
      "source": [
        "#I've write a function twice, so you can see how it works in both boolean values\n",
        "\n",
        "def show_trueFalse1():\n",
        "  # Write a function called show_trueFalse()\n",
        "  logged_in=True\n",
        "  logged_in_as_num=int(True)\n",
        "  print(logged_in, logged_in_as_num)\n",
        "\n",
        "show_trueFalse1()\n",
        "\n",
        "def show_trueFalse0():\n",
        "  # Write a function called show_trueFalse()\n",
        "  logged_in=False\n",
        "  logged_in_as_num=int(False)\n",
        "  print(logged_in, logged_in_as_num)\n",
        "\n",
        "show_trueFalse0()"
      ],
      "metadata": {
        "id": "fwm0o7eexqA8",
        "colab": {
          "base_uri": "https://localhost:8080/"
        },
        "outputId": "c9766f7e-8e68-440e-b904-f54860153061"
      },
      "execution_count": null,
      "outputs": [
        {
          "output_type": "stream",
          "name": "stdout",
          "text": [
            "True 1\n",
            "False 0\n"
          ]
        }
      ]
    },
    {
      "cell_type": "markdown",
      "source": [
        "---\n",
        "### Exercise 3 - converting float to int\n",
        "\n",
        "Write a function called **count_poundCoins()** which will:  \n",
        "\n",
        "*  ask the user to enter an amount in pounds and pence and assign this value to a float variable called **pounds_pence**  \n",
        "*  convert the float variable to int and assign this value to a variable called **pound_coins**  \n",
        "*  print the message Number of pound coins `pound_coins`  \n",
        "\n",
        "Test input:  \n",
        "3.48  \n",
        "\n",
        "Expected output:  \n",
        "Number of pound coins 3\n",
        "\n"
      ],
      "metadata": {
        "id": "GwAxLjtyxqNK"
      }
    },
    {
      "cell_type": "code",
      "source": [
        "def count_poundCoins():\n",
        "  # Write a function called count_poundCoins()\n",
        "\n",
        "  pounds_pence=float(input(\"Please enter an amount in pounds and pence: \"))\n",
        "  pound_coins=int(pounds_pence)\n",
        "  print(\"Number of pound coins\", pound_coins)\n",
        "\n",
        "count_poundCoins()"
      ],
      "metadata": {
        "id": "ir8z6ga8xsBF",
        "colab": {
          "base_uri": "https://localhost:8080/"
        },
        "outputId": "48d87c63-4b10-4b48-e163-2a9c406c00fb"
      },
      "execution_count": null,
      "outputs": [
        {
          "output_type": "stream",
          "name": "stdout",
          "text": [
            "Please enter an amount in pounds and pence: 3.99\n",
            "Number of pound coins 3\n"
          ]
        }
      ]
    },
    {
      "cell_type": "markdown",
      "source": [
        "---\n",
        "### Exercise 4 - converting int to string\n",
        "\n",
        "Write a function called **format_currency()** which will:\n",
        "\n",
        "*  ask the user to enter a number of pounds and assign this to an integer variable called **num_pounds**  \n",
        "*  convert numPounds to a string and assign it to a variable called **pounds**  \n",
        "*  create a String variable called **currency** which has a \"£\", pounds, \".00\" joined together\n",
        "*  print the resulting currency, including the £ sign  \n",
        "\n",
        "Test input:  \n",
        "4\n",
        "\n",
        "Expected output:  \n",
        "£4.00\n"
      ],
      "metadata": {
        "id": "8-q4QIO4xs4x"
      }
    },
    {
      "cell_type": "code",
      "source": [
        "def format_currency():\n",
        "  # Write a function called format_currency()\n",
        "\n",
        "  num_pounds=int(input(\"Please enter a number of pounds: \"))\n",
        "  pounds=str(num_pounds)\n",
        "  currency=\"£\" + pounds + \".00\"\n",
        "  print(currency)\n",
        "\n",
        "format_currency()"
      ],
      "metadata": {
        "id": "2K_4Wl60xvam",
        "colab": {
          "base_uri": "https://localhost:8080/"
        },
        "outputId": "51fb9a4a-a634-48d0-eaab-50238d19efd8"
      },
      "execution_count": null,
      "outputs": [
        {
          "output_type": "stream",
          "name": "stdout",
          "text": [
            "Please enter a number of pounds: 4\n",
            "£4.00\n"
          ]
        }
      ]
    },
    {
      "cell_type": "markdown",
      "source": [
        "---\n",
        "### Exercise 5 - area of a circle\n",
        "\n",
        "Write a function called **calculate_area()** which will:\n",
        "\n",
        "*  ask the user to enter the **radius** of a circle (which could be a float or an int)  \n",
        "*  create a variable called **pi** and assign it the value 3.14159\n",
        "*  calculate the **area** of the circle (`area = pi * radius * radius`)  \n",
        "*  print the area of the circle to 2 decimal places (`print(round(area, 2))` ).  \n",
        "\n",
        "Test input:  \n",
        "5\n",
        "\n",
        "Expected output:  \n",
        "78.54"
      ],
      "metadata": {
        "id": "-QxgOCm0xv4E"
      }
    },
    {
      "cell_type": "code",
      "source": [
        "def calculate_area():\n",
        "  # Write a function called calculate_area()\n",
        "\n",
        "  radius=float(input(\"Please enter the radius of a circle: \"))\n",
        "  pi=float(3.14159)\n",
        "  area=pi*radius*radius\n",
        "  print(round(area, 2))\n",
        "\n",
        "calculate_area()"
      ],
      "metadata": {
        "id": "2Az3BEzWxx5e",
        "colab": {
          "base_uri": "https://localhost:8080/"
        },
        "outputId": "d6af35fb-3bd5-402e-92dd-19b255050533"
      },
      "execution_count": 6,
      "outputs": [
        {
          "output_type": "stream",
          "name": "stdout",
          "text": [
            "Please enter the radius of a circle: 5\n",
            "78.54\n"
          ]
        }
      ]
    }
  ]
}