{
  "nbformat": 4,
  "nbformat_minor": 0,
  "metadata": {
    "colab": {
      "provenance": [],
      "include_colab_link": true
    },
    "kernelspec": {
      "name": "python3",
      "display_name": "Python 3"
    },
    "language_info": {
      "name": "python"
    }
  },
  "cells": [
    {
      "cell_type": "markdown",
      "metadata": {
        "id": "view-in-github",
        "colab_type": "text"
      },
      "source": [
        "<a href=\"https://colab.research.google.com/github/Rusanyuk/Data-with-Python/blob/main/SelectionChallenge.ipynb\" target=\"_parent\"><img src=\"https://colab.research.google.com/assets/colab-badge.svg\" alt=\"Open In Colab\"/></a>"
      ]
    },
    {
      "cell_type": "markdown",
      "source": [
        "<a href=\"https://colab.research.google.com/github/StefanMeyer7/Python-Fundamentals/blob/main/SelectionChallenge.ipynb\" target=\"_parent\"><img src=\"https://colab.research.google.com/assets/colab-badge.svg\" alt=\"Open In Colab\"/></a>"
      ],
      "metadata": {
        "id": "hypbENCo_DGn"
      }
    },
    {
      "cell_type": "markdown",
      "source": [
        "# Three selection challenges\n",
        "\n",
        "---\n"
      ],
      "metadata": {
        "id": "dXBVr9XG_X_R"
      }
    },
    {
      "cell_type": "markdown",
      "source": [
        "### Challenge 1 - password format  \n",
        "\n",
        "Write a function called **check_password_valid()** which will check the validity of a **password** input by a user.\n",
        "\n",
        "Rules for a valid password are:  \n",
        "\n",
        "*  At least 1 letter between [a-z] and 1 letter between [A-Z].\n",
        "*  At least 1 number between [0-9].\n",
        "*  At least 1 character from [$#@].\n",
        "*  Minimum length 6 characters.\n",
        "*  Maximum length 16 characters.  \n",
        "\n",
        "Let the user know if the `password` they have typed is valid and, if not, where was the first error.\n",
        "\n",
        "*Hint:  to test if a set of characters is present in a password String, you can use re.search('[character set]', `password`)*  \n",
        "\n",
        "Example:   \n",
        "*if re.search('[a-z]',`password`):*    \n",
        "if there is at least 1 character a-z in the password, re.search will not be None.\n",
        "\n",
        "**re** is a pre-written Python function for pattern searching in Strings.  It has been imported for you in the code cell below.  "
      ],
      "metadata": {
        "id": "_6gwhxsa_Yqt"
      }
    },
    {
      "cell_type": "code",
      "source": [
        "import re\n",
        "\n",
        "# add your check_PasswordValid() function and call below here\n",
        "def check_password_valid():\n",
        "    print(\"\"\"Rules for a valid password are:\n",
        "\n",
        "At least 1 letter between [a-z] and 1 letter between [A-Z].\n",
        "At least 1 number between [0-9].\n",
        "At least 1 character from [$#@].\n",
        "Minimum length 6 characters.\n",
        "Maximum length 16 characters.\n",
        "\"\"\")\n",
        "    password=input(\"Please enter your password: \")\n",
        "\n",
        "    if not re.search(\"[a-z]\", password):\n",
        "      print(\"You need at least 1 letter between [a-z] and 1 letter between [A-Z].\")\n",
        "    elif not re.search(\"[0-9]\", password):\n",
        "      print(\"You need at least 1 number between [0-9].\")\n",
        "    elif not re.search(\"[$#@]\", password):\n",
        "      print(\"You need at least 1 character from [$#@].\")\n",
        "    elif not len(str(password))>6:\n",
        "      print(\"You need minimum length 6 characters.\")\n",
        "    elif len(str(password))>16:\n",
        "      print(\"You need maximum length 16 characters.\")\n",
        "    else:\n",
        "      print(\"Your password is valid.\")\n",
        "check_password_valid()\n",
        "\n"
      ],
      "metadata": {
        "id": "LbgP53vJ_a2T",
        "colab": {
          "base_uri": "https://localhost:8080/"
        },
        "outputId": "f979c923-877f-49e5-c33f-cc24730a4774"
      },
      "execution_count": null,
      "outputs": [
        {
          "output_type": "stream",
          "name": "stdout",
          "text": [
            "Rules for a valid password are:\n",
            "\n",
            "At least 1 letter between [a-z] and 1 letter between [A-Z].\n",
            "At least 1 number between [0-9].\n",
            "At least 1 character from [$#@].\n",
            "Minimum length 6 characters.\n",
            "Maximum length 16 characters.\n",
            "\n",
            "Please enter your password: gh6\n",
            "You need at least 1 character from [$#@].\n"
          ]
        }
      ]
    },
    {
      "cell_type": "markdown",
      "source": [
        "---\n",
        "### Challenge 2 - triangle shape  \n",
        "\n",
        "Write a function called **evaluate_triangle_shape()** which will check if a triangle is equilateral, isosceles or scalene, based on the three side lengths entered by a user (**x**, **y** and **z**).\n",
        "\n",
        "An equilateral triangle is a triangle in which all three sides are equal.\n",
        "A scalene triangle is a triangle that has three unequal sides.\n",
        "An isosceles triangle is a triangle with (at least) two equal sides.\n",
        "\n",
        "For example:  \n",
        "A triange with side lengths                                 \n",
        "x: 6                                                                    \n",
        "y: 8                                                                    \n",
        "z: 12                                                                   \n",
        "is a *Scalene triangle*\n",
        "\n",
        "A triangle with side lengths\n",
        "x:5  \n",
        "y:3   \n",
        "z:5  \n",
        "is an *Isosceles triangle*"
      ],
      "metadata": {
        "id": "ItfugXAk_cJI"
      }
    },
    {
      "cell_type": "code",
      "source": [
        "def evaluate_triangle_shape():\n",
        "  x=int(input(\"Please enter a length of side x: \"))\n",
        "  y=int(input(\"Please enter a length of side y: \"))\n",
        "  z=int(input(\"Please enter a length of side z: \"))\n",
        "  if x==y and y==z and z==x:\n",
        "    print(\"This is an Equilateral Triangle\")\n",
        "  elif x==y or y==z or z==x:\n",
        "    print(\"This is a Isosceles triangle\")\n",
        "  else:\n",
        "    print(\"This is a Scalene triangle\")\n",
        "evaluate_triangle_shape()"
      ],
      "metadata": {
        "id": "YhvNRSrR_fwV",
        "colab": {
          "base_uri": "https://localhost:8080/"
        },
        "outputId": "9664de94-f210-4de6-8e74-a7bea6b75904"
      },
      "execution_count": null,
      "outputs": [
        {
          "output_type": "stream",
          "name": "stdout",
          "text": [
            "Please enter a length of side x: 5\n",
            "Please enter a length of side y: 5\n",
            "Please enter a length of side z: 5\n",
            "This is an Equilateral Triangle\n"
          ]
        }
      ]
    },
    {
      "cell_type": "markdown",
      "source": [
        "---\n",
        "### Challenge 3 - which season\n",
        "\n",
        "Write a function called **determine_season()** which will ask the user to enter two integers representing a **month** and **day** and prints the season for that month and day.\n",
        "\n",
        "Note:  for this exercise the season dates are:\n",
        "*  Winter December 21 to March 20    \n",
        "*  Spring March 21 to June 20  \n",
        "*  Summer June 21 to September 20  \n",
        "*  Autumn September 21 to December 20\n",
        "\n",
        "Test input:  \n",
        "Input the month (e.g. January, February etc.): 7                     \n",
        "Input the day: 31                                                       \n",
        "\n",
        "Expected output:  \n",
        "Season is summer\n",
        "\n",
        "*Note: this will require multiple and or or operators and you should use brackets to help Python know which operations to do first*  \n",
        "\n",
        "*For an extra challenge you can check that the day is valid for the month*"
      ],
      "metadata": {
        "id": "DEy3P3-O_gsI"
      }
    },
    {
      "cell_type": "code",
      "source": [
        "def determine_season():\n",
        "    month=int(input(\"Please input the month number from 1 to 12 (e.g. January - 1, February - 2 etc.): \"))\n",
        "    day=int(input(\"Please input the day number: \"))\n",
        "\n",
        "    if (month<1 or month>12):\n",
        "      print(\"Please enter correct month number (1-12).\")\n",
        "    elif (month==1 or month==3 or month==5 or month==7 or month==8 or month==10 or month==12) and (day<1 or day>31):\n",
        "      print(\"Please enter the correct day number (1-31).\")\n",
        "    elif (month==4 or month==6 or month==9 or month==11) and (day<1 or day>30):\n",
        "      print(\"Please enter the correct day number (1-30).\")\n",
        "    elif (month==2 and (day<1 or day>28)):\n",
        "      print(\"Please enter the correct day number (1-28).\")\n",
        "    #Winter\n",
        "    elif (month==12 and day>=21) or (month>0 and month<3 and day>1) or (month==3 and day>1 and day<=20):\n",
        "      print(\"Season is winter\")\n",
        "    #Spring\n",
        "    elif (month==3 and day>=21) or (month>3 and month<6 and day>1) or (month==6 and day>1 and day<=20):\n",
        "      print(\"Season is spring\")\n",
        "    #Summer\n",
        "    elif (month==6 and day>=21) or (month>6 and month<9 and day>1) or (month==9 and day>1 and day<=20):\n",
        "      print(\"Season is summer\")\n",
        "    #Autumn\n",
        "    else:\n",
        "      print(\"Season is autumn\")\n",
        "determine_season()"
      ],
      "metadata": {
        "id": "5hKAawCu_iln",
        "colab": {
          "base_uri": "https://localhost:8080/"
        },
        "outputId": "9e9e2895-064b-4928-e717-62afc5e5c495"
      },
      "execution_count": 3,
      "outputs": [
        {
          "output_type": "stream",
          "name": "stdout",
          "text": [
            "Please input the month number from 1 to 12 (e.g. January - 1, February - 2 etc.): 2\n",
            "Please input the day number: 29\n",
            "Please enter the correct day number (1-28).\n"
          ]
        }
      ]
    }
  ]
}