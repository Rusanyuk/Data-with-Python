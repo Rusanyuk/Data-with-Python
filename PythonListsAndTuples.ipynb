{
  "cells": [
    {
      "cell_type": "markdown",
      "metadata": {
        "id": "view-in-github",
        "colab_type": "text"
      },
      "source": [
        "<a href=\"https://colab.research.google.com/github/Rusanyuk/Data-with-Python/blob/main/PythonListsAndTuples.ipynb\" target=\"_parent\"><img src=\"https://colab.research.google.com/assets/colab-badge.svg\" alt=\"Open In Colab\"/></a>"
      ]
    },
    {
      "cell_type": "markdown",
      "metadata": {
        "id": "Vvcpt-18AqVE"
      },
      "source": [
        "<a href=\"https://colab.research.google.com/github/StefanMeyer7/Python-Fundamentals/blob/main/PythonListsAndTuples.ipynb\" target=\"_parent\"><img src=\"https://colab.research.google.com/assets/colab-badge.svg\" alt=\"Open In Colab\"/></a>"
      ]
    },
    {
      "cell_type": "markdown",
      "metadata": {
        "id": "RXngLqUPdKdP"
      },
      "source": [
        "# Lists and tuples\n",
        "\n",
        "Often we need to store a number of single items of data together so that they can be processed together. This might be because all the data refers to one person (e.g. name, age, gender, etc) OR it might be because we have a set of data (e.g. all the items that should be displayed in a drop down list, such as all the years from this year back to 100 years ago so that someone can select their year of birth)\n",
        "\n",
        "Python has a range of data structures available including:\n",
        "*   lists  \n",
        "*   tuples  \n",
        "*   dictionaries  \n",
        "*   sets\n",
        "\n",
        "This worksheet looks at lists and tuples.\n",
        "\n",
        "## List\n",
        "A list is a set of related, individual data objects, that are indexed and can be processed as a whole, as subsets or as individual items.  Lists are stored, essentially, as contiguous items in memory so that access can be as quick as possible.  However, they are mutable (they can be changed after they are created and stored) and so those mechanisms need to include extra functionality to deal with changing list sizes.\n",
        "\n",
        "## Tuple\n",
        "Essentially the same as a list but it is immutable.  Once it has been created it can't be changed.  It is stored in memory as contiguous items, with the size required being fixed right from the start.  This makes it faster to access.\n",
        "\n",
        "The code below will create two lists and a tuple.\n",
        "*   the first list contains 1000 random numbers between 1 and 100\n",
        "*   the second list is of random length (up to 5000) and each item is one of the 9 characteristics that are protected under the Equality Act in the UK.\n",
        "*   the tuple contains the 9 protected characteristics\n",
        "\n",
        "Before you start the exercises, run the code below.  It will generate the lists and tuple so that you can use them in the exercises.  If you need to recreate the lists again (because you have changed them and need to work on the originals, just run this cell again).\n",
        "\n",
        "***Note:***  *a list variable contains a reference to the start of the list in memory, rather than storing the list itself.  This means that if you assign the list to another variable (to make a copy), it will only copy across the reference.  If you change the copy, you change the original list.*\n",
        "\n",
        "*If you need to make a copy of the list you will need to use a loop to create a new list and copy all items across.*"
      ]
    },
    {
      "cell_type": "code",
      "execution_count": 2,
      "metadata": {
        "id": "wa-gYCbUdMjn"
      },
      "outputs": [],
      "source": [
        "from random import randint, choice\n",
        "\n",
        "def get_num_list():\n",
        "  num_list = [randint(1,100) for n in range(1000)]\n",
        "  return num_list\n",
        "\n",
        "def get_protected_characteristics():\n",
        "  characteristics_tuple = ('age','disability','gender reassignment','marriage and civil partnership','pregnancy and maternity','race','religion or belief','sex','sexual orientation')\n",
        "  return characteristics_tuple\n",
        "\n",
        "def get_protected_characteristic_list(protected_characteristics):\n",
        "  char_list = [choice(protected_characteristics) for ch in range(randint(1,5000))]\n",
        "  return char_list\n",
        "\n",
        "nums = get_num_list()\n",
        "protected_characteristics = get_protected_characteristics()\n",
        "characteristics = get_protected_characteristic_list(protected_characteristics)"
      ]
    },
    {
      "cell_type": "markdown",
      "metadata": {
        "id": "HS8pOqUydNtl"
      },
      "source": [
        "## The exercises below will use the lists:  \n",
        "*   **nums** (a list of between 1 and 1000 random numbers, each number is between 0 and 1000)\n",
        "*   **characteristics** (a list of 5000 random protected_characteristics)\n",
        "\n",
        "and the tuple:\n",
        "*  **protected_characteristics** (a set of the 9 protected characteristics identified in the Equality Act)\n",
        "\n",
        "## You can run the cell above any number of times to generate new lists."
      ]
    },
    {
      "cell_type": "markdown",
      "metadata": {
        "id": "nkyY_SHBdPGi"
      },
      "source": [
        "---\n",
        "### Exercise 1 - list head, tail and shape\n",
        "\n",
        "Write a function, **describe_list()** which will:\n",
        "*  print the length of the list `nums`\n",
        "*  print the first 10 items in `nums`  \n",
        "*  print the last 5 items in `nums`"
      ]
    },
    {
      "cell_type": "code",
      "execution_count": null,
      "metadata": {
        "id": "VIq1He-qdPwo",
        "colab": {
          "base_uri": "https://localhost:8080/"
        },
        "outputId": "f231e643-3f61-4a6e-cd69-a5093aa49c88"
      },
      "outputs": [
        {
          "output_type": "stream",
          "name": "stdout",
          "text": [
            "1000\n",
            "[96, 89, 33, 75, 41, 76, 29, 100, 91, 50]\n",
            "[3, 94, 72, 18, 20]\n",
            "96 41\n"
          ]
        }
      ],
      "source": [
        "def describe_list():\n",
        "  print(len(nums))\n",
        "  print(nums[0:10])\n",
        "  print(nums[-5:])\n",
        "describe_list()"
      ]
    },
    {
      "cell_type": "markdown",
      "metadata": {
        "id": "eDMYL9W_dQ4S"
      },
      "source": [
        "---\n",
        "### Exercise 2 - show tuple items\n",
        "\n",
        "Write a function which will:\n",
        "*   use a loop to print the list of protected characteristics from the `protected_characteristics` tuple.\n"
      ]
    },
    {
      "cell_type": "code",
      "execution_count": null,
      "metadata": {
        "id": "owrfFpuqdRc8",
        "colab": {
          "base_uri": "https://localhost:8080/"
        },
        "outputId": "4f7b0590-8bf4-4d8f-e724-a522ac74207a"
      },
      "outputs": [
        {
          "output_type": "stream",
          "name": "stdout",
          "text": [
            "age\n",
            "disability\n",
            "gender reassignment\n",
            "marriage and civil partnership\n",
            "pregnancy and maternity\n",
            "race\n",
            "religion or belief\n",
            "sex\n",
            "sexual orientation\n"
          ]
        }
      ],
      "source": [
        "def describe_list():\n",
        "  for characteristic in protected_characteristics:\n",
        "    print(characteristic)\n",
        "describe_list()"
      ]
    },
    {
      "cell_type": "markdown",
      "metadata": {
        "id": "zPFZlkdSdSRf"
      },
      "source": [
        "---\n",
        "### Exercise 3 - list a random subset\n",
        "\n",
        "Write a function which will:\n",
        "*  calculate the position of the middle item in the `characteristics` list   \n",
        "(*Hint: use len() to help with this*)\n",
        "*  calculate the position of the item that is 5 places before the middle item\n",
        "*  calculate the position of the item that is 5 places after the middle item\n",
        "*  print the part of the list that includes the items from 5 places before to 5 places after.  \n",
        "\n",
        "Expected output:  \n",
        "Your list will include 11 items."
      ]
    },
    {
      "cell_type": "code",
      "execution_count": null,
      "metadata": {
        "id": "FN_0wbpPdSsU",
        "colab": {
          "base_uri": "https://localhost:8080/"
        },
        "outputId": "c4b02e0e-5bcc-491e-c1dc-21634fe17d56"
      },
      "outputs": [
        {
          "output_type": "stream",
          "name": "stdout",
          "text": [
            "4874\n",
            "2437\n",
            "Middle item is: marriage and civil partnership\n",
            "Item that is 5 places before the middle is:  2432\n",
            "Item that is 5 places after the middle is:  2442\n",
            "['age', 'race', 'age', 'gender reassignment', 'marriage and civil partnership', 'marriage and civil partnership', 'sexual orientation', 'pregnancy and maternity', 'pregnancy and maternity', 'disability']\n"
          ]
        }
      ],
      "source": [
        "def random_list():\n",
        "  length=len(characteristics)\n",
        "  print(length)\n",
        "  middle_index=int((length)/2)\n",
        "  print(middle_index)\n",
        "  print(\"Middle item is:\", characteristics[middle_index])\n",
        "  five_before_middle=middle_index-5\n",
        "  print(\"Item that is 5 places before the middle is: \", five_before_middle)\n",
        "  five_after_middle=middle_index+5\n",
        "  print(\"Item that is 5 places after the middle is: \", five_after_middle)\n",
        "  print(characteristics[five_before_middle:five_after_middle])\n",
        "random_list()"
      ]
    },
    {
      "cell_type": "markdown",
      "metadata": {
        "id": "3O63UD_LdT4X"
      },
      "source": [
        "---\n",
        "### Exercise 4 - create a copy\n",
        "\n",
        "Write a function which will: use a for loop to create a copy of the `nums` list:\n",
        "\n",
        "*   create a new, empty, list called **new_nums**  (*Hint: an empty list is [ ]*)\n",
        "*   use a for loop which uses the following syntax:  `for num in nums:`\n",
        "*   each time round the loop append `num` to `new_nums`  ( *`new_nums.append(num)`*)\n",
        "*   print the first 10 items of `new_nums`\n",
        "*   print the first 10 items of `nums`\n",
        "*   print the length of both lists"
      ]
    },
    {
      "cell_type": "code",
      "execution_count": null,
      "metadata": {
        "id": "WldCmXYbdUX4",
        "colab": {
          "base_uri": "https://localhost:8080/"
        },
        "outputId": "14cb75b6-e2dd-4b45-a28c-55de90ce1f7f"
      },
      "outputs": [
        {
          "output_type": "stream",
          "name": "stdout",
          "text": [
            "New nums list 1-10:  [79, 34, 81, 22, 23, 75, 85, 12, 97, 97]\n",
            "Nums list 1-10:  [79, 34, 81, 22, 23, 75, 85, 12, 97, 97]\n",
            "New nums list length:  1000\n",
            "Nums list length:  1000\n"
          ]
        }
      ],
      "source": [
        "def copy_nums():\n",
        "  new_nums = []\n",
        "  for num in nums:\n",
        "    new_nums.append(num)\n",
        "  print(\"New nums list 1-10: \", new_nums[0:10])\n",
        "  print(\"Nums list 1-10: \", nums[0:10])\n",
        "  print(\"New nums list length: \", len(new_nums))\n",
        "  print(\"Nums list length: \", len(nums))\n",
        "copy_nums()"
      ]
    },
    {
      "cell_type": "markdown",
      "metadata": {
        "id": "CREQbs7-dXRq"
      },
      "source": [
        "\n",
        "\n",
        "```\n",
        "# This is formatted as code\n",
        "```\n",
        "\n",
        "---\n",
        "### Exercise 5 - count the occurrence of age in characteristics\n",
        "\n",
        "Write a function which will use the list method:\n",
        "\n",
        "`num_items = list_name.count(item)`\n",
        "\n",
        "to count the number of occurrences of 'age' in the `characteristics` list.  Print the result."
      ]
    },
    {
      "cell_type": "code",
      "execution_count": null,
      "metadata": {
        "id": "8ADjU2-ddX0S",
        "colab": {
          "base_uri": "https://localhost:8080/"
        },
        "outputId": "f70f17a9-5bfa-4c3f-9fc2-f6869a5567e9"
      },
      "outputs": [
        {
          "output_type": "stream",
          "name": "stdout",
          "text": [
            "543\n"
          ]
        }
      ],
      "source": [
        "def occurrence_of_age():\n",
        "  num_items = characteristics.count(\"age\")\n",
        "  print(num_items)\n",
        "occurrence_of_age()"
      ]
    },
    {
      "cell_type": "markdown",
      "metadata": {
        "id": "_eZfQ9pSdZFa"
      },
      "source": [
        "---\n",
        "### Exercise 6 - sort the nums list\n",
        "\n",
        "Write a function which will:\n",
        "*   call the function `get_num_list()` and store the result in a new list called **sort_nums**\n",
        "*   print the first, and last, 20 items in the `sort_nums` list\n",
        "*   use the `list_name.sort()` method to sort the `sort_nums` list into ascending order\n",
        "*   print the first, and last, 20 items again  \n",
        "*   use the `list_name.sort()` method again to sort the `sort_nums` list into descending order\n",
        "*   print the first, and last, 20 items again"
      ]
    },
    {
      "cell_type": "code",
      "execution_count": null,
      "metadata": {
        "id": "7JyMh6MpdZjm",
        "colab": {
          "base_uri": "https://localhost:8080/"
        },
        "outputId": "ed59f0f7-781b-475b-84f3-d3a797dc4ac2"
      },
      "outputs": [
        {
          "output_type": "stream",
          "name": "stdout",
          "text": [
            "First 20 items are:  [84, 13, 45, 36, 70, 47, 62, 56, 69, 94, 19, 21, 94, 30, 62, 95, 37, 7, 23, 68]\n",
            "Last 20 items are:  [52, 9, 61, 17, 89]\n",
            "Sorted first 20 items are:  [1, 1, 1, 1, 1, 1, 1, 1, 1, 1, 1, 1, 2, 2, 2, 2, 2, 2, 2, 2]\n",
            "Sorted last 20 items are:  [100, 100, 100, 100, 100]\n",
            "Sorted in descending order first 20 items are:  [100, 100, 100, 100, 100, 100, 100, 100, 100, 100, 100, 100, 100, 100, 100, 100, 100, 99, 99, 99]\n",
            "Sorted in descending order last 20 items are:  [1, 1, 1, 1, 1]\n"
          ]
        }
      ],
      "source": [
        "def sort_the_nums():\n",
        "  sort_nums = get_num_list()\n",
        "  print(\"First 20 items are: \", sort_nums[0:20])\n",
        "  print(\"Last 20 items are: \", sort_nums[-5:])\n",
        "  sort_nums.sort()\n",
        "  print(\"Sorted first 20 items are: \", sort_nums[0:20])\n",
        "  print(\"Sorted last 20 items are: \", sort_nums[-5:])\n",
        "  sort_nums.sort(reverse = True)\n",
        "  print(\"Sorted in descending order first 20 items are: \", sort_nums[0:20])\n",
        "  print(\"Sorted in descending order last 20 items are: \", sort_nums[-5:])\n",
        "\n",
        "sort_the_nums()"
      ]
    },
    {
      "cell_type": "markdown",
      "metadata": {
        "id": "NmAMPVqada0W"
      },
      "source": [
        "---\n",
        "### Exercise 7 - get statistics (max(), min(), sum() )\n",
        "\n",
        "Write a function which will:\n",
        "*   print the maximum and minimum numbers in the `nums` list  \n",
        "*   print the sum of the `nums` list\n",
        "*   calculate and print the average of the `nums` list (using `len()` to help)"
      ]
    },
    {
      "cell_type": "code",
      "execution_count": null,
      "metadata": {
        "id": "h7lH7x-3dbcC",
        "colab": {
          "base_uri": "https://localhost:8080/"
        },
        "outputId": "ee1d7a13-22ac-4ba2-a28e-d6c0c46dc8c9"
      },
      "outputs": [
        {
          "output_type": "stream",
          "name": "stdout",
          "text": [
            "100\n",
            "1\n",
            "51515\n",
            "51.515\n"
          ]
        }
      ],
      "source": [
        "def get_statistics():\n",
        "  print(max(nums))\n",
        "  print(min(nums))\n",
        "  print(sum(nums))\n",
        "  print(sum(nums)/len(nums))\n",
        "get_statistics()"
      ]
    },
    {
      "cell_type": "markdown",
      "metadata": {
        "id": "SBxi9jgqdckp"
      },
      "source": [
        "---\n",
        "### Exercise 8 - percentage difference\n",
        "\n",
        "Write a function which will:\n",
        "*   generate a new list called **ex8_nums** using `get_num_list()`\n",
        "*   calculate and print the percentage difference between the first number in each list (as a percentage of the number in the nums list) (Hint:  find the difference between the two numbers, divide the difference by the number in `nums` and multiply by 100)\n",
        "*   calculate and print the percentage difference between the last numbers in each list in the same way\n",
        "*   calculate and print the percentage difference between the middle numbers in each list in the same way.\n",
        "*   calculate and print the percentage difference between the sums of each list in the same way"
      ]
    },
    {
      "cell_type": "code",
      "execution_count": 32,
      "metadata": {
        "id": "gJ0YWNn6ddYZ",
        "colab": {
          "base_uri": "https://localhost:8080/"
        },
        "outputId": "26eac69b-3a13-4d04-f828-2f93a3191189"
      },
      "outputs": [
        {
          "output_type": "stream",
          "name": "stdout",
          "text": [
            "The difference between the first numbers is:  25.97 %\n",
            "The difference between the last numbers is:  -32.26 %\n",
            "The difference between the middle numbers is:  26.53 %\n",
            "The difference between the sums of each list is:  -2.45 %\n"
          ]
        }
      ],
      "source": [
        "def percentage_difference():\n",
        "  ex8_nums = get_num_list()\n",
        "# Since the percentage number showing the difference has a lot of decimal values, I decided to round it to two decimal places, despite the fact that such a task was never asked.\n",
        "  first_num_difference=((nums[0]-ex8_nums[0])/nums[0])*100\n",
        "  print(\"The difference between the first numbers is: \", round(first_num_difference, 2), \"%\")\n",
        "  last_num_difference=((nums[-1]-ex8_nums[-1])/nums[-1])*100\n",
        "  print(\"The difference between the last numbers is: \", round(last_num_difference, 2), \"%\")\n",
        "  middle_num_difference=((nums[int((len(nums))/2)]-ex8_nums[int((len(ex8_nums))/2)])/nums[int((len(nums))/2)])*100\n",
        "  print(\"The difference between the middle numbers is: \", round(middle_num_difference, 2), \"%\")\n",
        "  sum_num_difference=((sum(nums)-sum(ex8_nums))/sum(nums))*100\n",
        "  print(\"The difference between the sums of each list is: \", round(sum_num_difference, 2), \"%\")\n",
        "\n",
        "percentage_difference()"
      ]
    },
    {
      "cell_type": "markdown",
      "metadata": {
        "id": "ccV3tNxcdeU5"
      },
      "source": [
        "---\n",
        "### Exercise 9 - characteristic counts\n",
        "\n",
        "Write a function which will:\n",
        "*  iterate through the `protected_characteristics` tuple and for each **characteristic**:\n",
        "*   *   count the number of occurrences of that `characteristic` in the `characteristics` list\n",
        "*   *   print the `protected_characteristic` and the **count**  \n",
        "\n",
        "Example expected output:\n",
        "\n",
        "age 100  \n",
        "disability 120  \n",
        "gender reassignment 120  \n",
        "marriage and civil partnership 111  \n",
        "pregnancy and maternity 103  \n",
        "race 106  \n",
        "religion or belief 95  \n",
        "sex 110  \n",
        "sexual orientation 113  \n",
        "\n",
        "Extra learning:  you can read [here](https://thispointer.com/python-how-to-pad-strings-with-zero-space-or-some-other-character/) how to justify the printed characteristic so that the output is organised into two columns as shown below:  \n",
        "![tabulated output](https://drive.google.com/uc?id=1CCXfX6K5ZeDefnq7vUsqxCDmqvcfY8Mz)\n",
        "\n",
        "\n",
        "\n"
      ]
    },
    {
      "cell_type": "code",
      "source": [
        "def characteristic_counts():\n",
        "  print(\"Protected Characteristic\".ljust(32, \" \"), \"Frequency\\n\")\n",
        "  for characteristic in protected_characteristics:\n",
        "    print(characteristic.ljust(32, ' '), characteristics.count(characteristic))\n",
        "\n",
        "characteristic_counts()"
      ],
      "metadata": {
        "colab": {
          "base_uri": "https://localhost:8080/"
        },
        "id": "cK4KEQYeZmbG",
        "outputId": "85b64150-ae41-45aa-c412-b4bccc82074c"
      },
      "execution_count": 3,
      "outputs": [
        {
          "output_type": "stream",
          "name": "stdout",
          "text": [
            "Protected Characteristic         Frequency\n",
            "\n",
            "age                              445\n",
            "disability                       464\n",
            "gender reassignment              424\n",
            "marriage and civil partnership   405\n",
            "pregnancy and maternity          418\n",
            "race                             423\n",
            "religion or belief               389\n",
            "sex                              406\n",
            "sexual orientation               469\n"
          ]
        }
      ]
    },
    {
      "cell_type": "markdown",
      "metadata": {
        "id": "jb0xfOMRdpnC"
      },
      "source": [
        "---\n",
        "### Exercise 10 - characteristics statistics\n",
        "\n",
        "Assuming that the `characteristics` list may have been taken from a study of cases that have been taken to court in relation to the Equality Act.  \n",
        "\n",
        "Write a function which will:\n",
        "\n",
        "*   find the most common characteristic resulting in court action, from this population\n",
        "*   print this in a message, e.g. The characteristic with the highest number of court cases is:  *characteristic*\n",
        "*   print the list of `protected_characteristics`, on one line if possible - see [here](https://www.geeksforgeeks.org/g-fact-25-print-single-multiple-variable-python/)\n",
        "*   ask the user to enter a characteristic that they would like to see statistics on and use a while loop to continue until the user has entered a valid characteristic\n",
        "*   print the characteristic, its frequency and the percentage that this frequency is of the whole population."
      ]
    },
    {
      "cell_type": "code",
      "execution_count": 31,
      "metadata": {
        "id": "HQ0nWZhLdqI2",
        "colab": {
          "base_uri": "https://localhost:8080/"
        },
        "outputId": "3504f917-a73c-4aeb-d529-ffdc5d045775"
      },
      "outputs": [
        {
          "output_type": "stream",
          "name": "stdout",
          "text": [
            "The characteristic with the highest number of court cases is sexual orientation and it was mentioned 469 times.\n",
            "age, disability, gender reassignment, marriage and civil partnership, pregnancy and maternity, race, religion or belief, sex, sexual orientation, Enter a characteristic that you would like to see statistics on: race\n",
            "race\n",
            "423\n",
            "11.01 %\n"
          ]
        }
      ],
      "source": [
        "def characteristics_statistics():\n",
        "# find the most common characteristic resulting in court action, from this population\n",
        "  numbers_list=[]\n",
        "  for characteristic in protected_characteristics:\n",
        "    numbers_list.append(characteristics.count(characteristic))\n",
        "  biggest_number=max(numbers_list)\n",
        "  biggest_position=numbers_list.index(biggest_number)\n",
        "\n",
        "# print this in a message, e.g. The characteristic with the highest number of court cases is: characteristic\n",
        "  print(\"The characteristic with the highest number of court cases is\", protected_characteristics[biggest_position], \"and it was mentioned\", max(numbers_list), \"times.\")\n",
        "\n",
        "# print the list of protected_characteristics, on one line if possible - see here\n",
        "  for characteristic in protected_characteristics:\n",
        "    print(characteristic, end=\", \")\n",
        "\n",
        "# ask the user to enter a characteristic that they would like to see statistics on and use a while loop to continue until the user has entered a valid characteristic\n",
        "  answer=\"\"\n",
        "  while answer not in protected_characteristics:\n",
        "    answer=input(\"Enter a characteristic that you would like to see statistics on: \")\n",
        "\n",
        "# print the characteristic, its frequency and the percentage that this frequency is of the whole population.\n",
        "  print(answer)\n",
        "  frequency=characteristics.count(answer)\n",
        "  print(frequency)\n",
        "  percentage=round((frequency/len(characteristics)*100), 2)\n",
        "  print(f\"{percentage} %\")\n",
        "\n",
        "characteristics_statistics()"
      ]
    }
  ],
  "metadata": {
    "colab": {
      "provenance": [],
      "include_colab_link": true
    },
    "kernelspec": {
      "display_name": "Python 3",
      "name": "python3"
    },
    "language_info": {
      "name": "python"
    }
  },
  "nbformat": 4,
  "nbformat_minor": 0
}