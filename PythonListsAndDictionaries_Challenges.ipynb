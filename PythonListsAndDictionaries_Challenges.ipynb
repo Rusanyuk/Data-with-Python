{
  "cells": [
    {
      "cell_type": "markdown",
      "metadata": {
        "id": "view-in-github",
        "colab_type": "text"
      },
      "source": [
        "<a href=\"https://colab.research.google.com/github/Rusanyuk/Data-with-Python/blob/main/PythonListsAndDictionaries_Challenges.ipynb\" target=\"_parent\"><img src=\"https://colab.research.google.com/assets/colab-badge.svg\" alt=\"Open In Colab\"/></a>"
      ]
    },
    {
      "cell_type": "markdown",
      "metadata": {
        "id": "Vvcpt-18AqVE"
      },
      "source": [
        "<a href=\"https://colab.research.google.com/github/StefanMeyer7/Python-Fundamentals/blob/main/PythonListsAndDictionaries_Challenges.ipynb\" target=\"_parent\"><img src=\"https://colab.research.google.com/assets/colab-badge.svg\" alt=\"Open In Colab\"/></a>"
      ]
    },
    {
      "cell_type": "markdown",
      "metadata": {
        "id": "W4CdIbiFfeG3"
      },
      "source": [
        "# Some challenges to help you become more confident with using Lists, Tuples and Dictionaries\n",
        "\n",
        "---\n",
        "\n"
      ]
    },
    {
      "cell_type": "markdown",
      "metadata": {
        "id": "WaIu0Ye9ffOl"
      },
      "source": [
        "### Exercise 1 - extending a list\n",
        "\n",
        "There are three ways to extend a list in Python:  \n",
        "*  use `list_name.append(item)`, `list_name.insert(item)`\n",
        "*  concatenate two lists using the + operator (e.g. new_list = list1 + list2)\n",
        "*  use `list1_name.extend(list2_name)`\n",
        "\n",
        "The last method allows us to add all the `list2` items onto `list1` and for the new, extended list to now be `list1`.  `list2` will always be added to the end of `list1`.  \n",
        "\n",
        "If the objective is to add list2 before list1 then use `list2.extend(list1)`\n",
        "\n",
        "Write a function which will:  \n",
        "*  create a list of **years** containing the years 1960, 1970, 1980, 1990, 2000  \n",
        "*  print the list of years  \n",
        "*  calculate how long ago each year was and print the year and how long ago it was (e.g. 1990 was 30 years ago)  *(Hint:  use the datetime library to get the current year)*   \n",
        "*  create a second list, **years2** containing the years 2010 and 2020, extend `years` to include these later years\n",
        "*  create a third list, **years3** containing the years 1930, 1940 and 1950 and extend the list to include all the years between 1930 and 2020\n",
        "*  print the final list\n",
        "\n",
        "Expected output:  \n",
        "[1960, 1970, 1980, 1990]  \n",
        "1960 was 61 years ago  \n",
        "1970 was 51 years ago  \n",
        "1980 was 41 years ago  \n",
        "1990 was 31 years ago  \n",
        "2000 was 21 years ago  \n",
        "[1930, 1940, 1950, 1960, 1970, 1980, 1990, 2000, 2010, 2020]"
      ]
    },
    {
      "cell_type": "code",
      "execution_count": null,
      "metadata": {
        "id": "WttlqF5-ffyw",
        "colab": {
          "base_uri": "https://localhost:8080/"
        },
        "outputId": "cc7aa115-af8c-4e7c-9e2b-f72420e56b0f"
      },
      "outputs": [
        {
          "output_type": "stream",
          "name": "stdout",
          "text": [
            "[1960, 1970, 1980, 1990, 2000]\n",
            "1960 was 64 years ago\n",
            "1970 was 54 years ago\n",
            "1980 was 44 years ago\n",
            "1990 was 34 years ago\n",
            "2000 was 24 years ago\n",
            "[1930, 1940, 1950, 1960, 1970, 1980, 1990, 2000, 2010, 2020]\n"
          ]
        }
      ],
      "source": [
        "from datetime import datetime\n",
        "def extending_a_list():\n",
        "  years = [1960, 1970, 1980, 1990, 2000]\n",
        "  print(years)\n",
        "  today=datetime.now()\n",
        "  curent_year=today.year\n",
        "  for i in years:\n",
        "    print(i, \"was\", curent_year-i, \"years ago\")\n",
        "  years2 = [2010, 2020]\n",
        "  years.extend(years2)\n",
        "  years3 = [1930, 1940, 1950]\n",
        "  years3.extend(years)\n",
        "  print(years3)\n",
        "\n",
        "extending_a_list()"
      ]
    },
    {
      "cell_type": "markdown",
      "metadata": {
        "id": "ORhAOgBLfg04"
      },
      "source": [
        "---\n",
        "### Exercise 2 - creating a dictionary from a tuple and three lists\n",
        "\n",
        "Write a function which will create a list of dictionary items using the values in a tuple as the dictionary keys and the values in three corresponding lists as the dictionary values.\n",
        "\n",
        "*  loop through the status items in the tuple called task_status\n",
        "*  for each status, loop through the list with the same name (*Hint:  you can use eval(status) to access the list with the matching name  e.g. for task in eval(status)* )\n",
        "*  each time round this second loop, create a dictionary object with the  key:value pair {status : task}\n",
        "*  add each new dictionary to a list called **project_board** that was created as an empty list before the loops  \n",
        "*  print the project_board list\n",
        "\n",
        "Expected output:  \n",
        "\n",
        "[{'assigned': 'task1'}, {'assigned': 'task2'}, {'assigned': 'task3'}, {'inprogress': 'task4'}, {'inprogress': 'task5'}, {'inprogress': 'task6'}, {'completed': 'task7'}, {'completed': 'task8'}, {'completed': 'task9'}]\n",
        "\n"
      ]
    },
    {
      "cell_type": "code",
      "execution_count": null,
      "metadata": {
        "id": "1Cxi97h8fiB6",
        "colab": {
          "base_uri": "https://localhost:8080/"
        },
        "outputId": "25213237-8fb5-4aa8-8359-f60e303ca71b"
      },
      "outputs": [
        {
          "output_type": "stream",
          "name": "stdout",
          "text": [
            "[{'assigned': 'task1'}, {'assigned': 'task2'}, {'assigned': 'task3'}, {'inprogress': 'task4'}, {'inprogress': 'task5'}, {'inprogress': 'task6'}, {'completed': 'task7'}, {'completed': 'task8'}, {'completed': 'task9'}]\n"
          ]
        }
      ],
      "source": [
        "def create_project_board():\n",
        "  task_status = (\"assigned\", \"inprogress\", \"completed\")\n",
        "  assigned = ['task1','task2','task3']\n",
        "  inprogress = ['task4','task5','task6']\n",
        "  completed = ['task7','task8','task9']\n",
        "  #  add your code below here\n",
        "  project_board=[]\n",
        "  for status in task_status:\n",
        "    current_list=eval(status)\n",
        "    for item in current_list:\n",
        "      task_dic={status: item}\n",
        "      project_board.append(task_dic)\n",
        "  return project_board\n",
        "\n",
        "project_board=create_project_board()\n",
        "print(project_board)"
      ]
    },
    {
      "cell_type": "markdown",
      "metadata": {
        "id": "G66tj6DFfj2r"
      },
      "source": [
        "---\n",
        "### Exercise 3 - names and heights\n",
        "\n",
        "Write a function which will allow a user to enter the names and heights of a set of people and add each set of information as a record (dictionary) to a list. The function will stop collecting names and heights when the user enters \"STOP\" as the name.\n",
        "\n",
        "Then, the function will:  \n",
        "\n",
        "*   produce a list of names in order of the shortest person to the tallest\n",
        "*   calculate the name of the tallest person\n",
        "*   calculate the name of the shortest person\n",
        "*   calculate the average height\n",
        "*   calculate the name of the person who is closest to the average height\n",
        "\n",
        "\n",
        "\n",
        "\n"
      ]
    },
    {
      "cell_type": "code",
      "source": [
        "# Additional function to extract height from a person dictionary\n",
        "def get_height(person):\n",
        "    return person[\"height\"]\n",
        "\n",
        "# Main function to collect names and heights, and perform calculations\n",
        "def names_and_heights():\n",
        "    people = []\n",
        "    name = \"\"\n",
        "    # Start the loop to collect information about people until the user enters \"STOP\"\n",
        "    while name != \"STOP\":\n",
        "        name = input(\"Please enter the name (or 'STOP' to end): \")\n",
        "        if name != \"STOP\":\n",
        "            height = int(input(\"Enter the height in centimeters: \"))\n",
        "            # Create a dictionary containing the person's name and height and append it to the people list\n",
        "            person = {\"name\": name, \"height\": height}\n",
        "            people.append(person)\n",
        "\n",
        "    # Sort the list of people in ascending order of height using the get_height additional function\n",
        "    sorted_people = sorted(people, key=get_height)\n",
        "\n",
        "    # Find the shortest and tallest person in the list\n",
        "    shortest_person = sorted_people[0][\"name\"]\n",
        "    tallest_person = sorted_people[-1][\"name\"]\n",
        "\n",
        "    # Calculate the average height of all people\n",
        "    total_height = 0\n",
        "    for person in sorted_people:\n",
        "        total_height = total_height + person[\"height\"]\n",
        "    average_height = total_height / len(sorted_people)\n",
        "\n",
        "    # Calculate the name of the person who is closest to the average height\n",
        "    closest_person = \"\"\n",
        "    min_diff = 999\n",
        "    for person in sorted_people:\n",
        "        # Calculate the difference between each person's height and the average height\n",
        "        diff = person[\"height\"] - average_height\n",
        "        # If the difference is negative, make it positive\n",
        "        if diff < 0:\n",
        "            diff = -diff\n",
        "        # If the current difference is less than the minimum, update the minimum difference and remember the person's name\n",
        "        if diff < min_diff:\n",
        "            min_diff = diff\n",
        "            closest_person = person[\"name\"]\n",
        "\n",
        "    # Produce a list of names in order of the shortest person to the tallest\n",
        "    print(\"Sorted names by height:\")\n",
        "    for person in sorted_people:\n",
        "        print(person[\"name\"])\n",
        "    # Print the results\n",
        "    print(\"Name of the tallest person:\", tallest_person)\n",
        "    print(\"Name of the shortest person:\", shortest_person)\n",
        "    print(\"Average height:\", average_height)\n",
        "    print(\"Name of the person closest to the average height:\", closest_person)\n",
        "\n",
        "names_and_heights()"
      ],
      "metadata": {
        "colab": {
          "base_uri": "https://localhost:8080/"
        },
        "id": "7CmFsPbVobyz",
        "outputId": "ac16a43d-744d-43d4-9af8-e841c26de5e1"
      },
      "execution_count": 1,
      "outputs": [
        {
          "output_type": "stream",
          "name": "stdout",
          "text": [
            "Please enter the name (or 'STOP' to end): Alex\n",
            "Enter the height in centimeters: 178\n",
            "Please enter the name (or 'STOP' to end): Uliana\n",
            "Enter the height in centimeters: 162\n",
            "Please enter the name (or 'STOP' to end): Robert\n",
            "Enter the height in centimeters: 190\n",
            "Please enter the name (or 'STOP' to end): Sanjay\n",
            "Enter the height in centimeters: 150\n",
            "Please enter the name (or 'STOP' to end): STOP\n",
            "Sorted names by height:\n",
            "Sanjay\n",
            "Uliana\n",
            "Alex\n",
            "Robert\n",
            "Name of the tallest person: Robert\n",
            "Name of the shortest person: Sanjay\n",
            "Average height: 170.0\n",
            "Name of the person closest to the average height: Uliana\n"
          ]
        }
      ]
    }
  ],
  "metadata": {
    "colab": {
      "provenance": [],
      "include_colab_link": true
    },
    "kernelspec": {
      "display_name": "Python 3",
      "name": "python3"
    },
    "language_info": {
      "name": "python"
    }
  },
  "nbformat": 4,
  "nbformat_minor": 0
}