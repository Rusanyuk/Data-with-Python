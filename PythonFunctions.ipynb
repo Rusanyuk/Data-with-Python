{
  "cells": [
    {
      "cell_type": "markdown",
      "metadata": {
        "id": "view-in-github",
        "colab_type": "text"
      },
      "source": [
        "<a href=\"https://colab.research.google.com/github/Rusanyuk/Data-with-Python/blob/main/PythonFunctions.ipynb\" target=\"_parent\"><img src=\"https://colab.research.google.com/assets/colab-badge.svg\" alt=\"Open In Colab\"/></a>"
      ]
    },
    {
      "cell_type": "markdown",
      "metadata": {
        "id": "Vvcpt-18AqVE"
      },
      "source": [
        "<a href=\"https://colab.research.google.com/github/StefanMeyer7/Python-Fundamentals/blob/main/PythonFunctions.ipynb\" target=\"_parent\"><img src=\"https://colab.research.google.com/assets/colab-badge.svg\" alt=\"Open In Colab\"/></a>"
      ]
    },
    {
      "cell_type": "markdown",
      "metadata": {
        "id": "sFf_RJVdUAd7"
      },
      "source": [
        "# Python functions\n",
        "\n",
        "---"
      ]
    },
    {
      "cell_type": "markdown",
      "metadata": {
        "id": "xBFk8HVPUCB2"
      },
      "source": [
        "You have already been using functions that are provided with Python  \n",
        "*  print()\n",
        "*  input()\n",
        "*  randint() *(from random)*\n",
        "\n",
        "You can tell that they are functions because they have brackets after the name. Often there is some data in the brackets (ie something that you want the function to use on this occasion)\n",
        "\n",
        "*  print(\"Hello\")\n",
        "*  input(\"What is your name? \")\n",
        "*  randint(1,6) *(from the random function library)*\n",
        "\n",
        "The data is called a *parameter* or an *argument*.  There can be any number of parameters passed to a function.  Order is important but can sometimes be overridden.\n",
        "\n",
        "Some functions just do something (e.g. print(\"Hello\") will just print the word Hello)..  \n",
        "\n",
        "Other functions produce some new data which you will assign to a variable:  \n",
        "```\n",
        "name = input(\"What is your name? \")  \n",
        "dice_roll = randint(1,6)\n",
        "```\n",
        "\n",
        "Each time you use a function's name in your program, or in another function, you are calling it and it will run.\n",
        "\n"
      ]
    },
    {
      "cell_type": "markdown",
      "metadata": {
        "id": "AIYd6YwxUDZD"
      },
      "source": [
        "---\n",
        "### Exercise 1 - len() of a string\n",
        "\n",
        "Write a function called **get_password()** which will get a password of 8 characters:  \n",
        "\n",
        "*  assign the value \"\" to a variable called **password**  \n",
        "*  start a while loop that will continue to loop while the length of `password` is not 8 characters    \n",
        "*  in the loop:  ask the user to enter a `password`\n",
        "*  after the loop, return the password to the calling program, which will print the valid password.  \n",
        "\n",
        "Test input:  \n",
        "abddgejkfjkl   \n",
        "999999999  \n",
        "ABCDEFH   \n",
        "\n",
        "Expected output:  \n",
        "ABCDEFGH  "
      ]
    },
    {
      "cell_type": "code",
      "execution_count": 8,
      "metadata": {
        "id": "uZ7LBtQDUFxq",
        "colab": {
          "base_uri": "https://localhost:8080/"
        },
        "outputId": "1df7ce2f-1a71-472a-c9b0-e345da13a7c4"
      },
      "outputs": [
        {
          "output_type": "stream",
          "name": "stdout",
          "text": [
            "Please enter a password: abddgejkfjkl\n",
            "Please enter a password: 999999999\n",
            "Please enter a password: ABCDEFH\n",
            "Please enter a password: ABCDEFHG\n",
            "ABCDEFHG\n"
          ]
        }
      ],
      "source": [
        "def get_password():\n",
        "  # add your code below here\n",
        "  password=\"\"\n",
        "  while len(password)!=8:\n",
        "    password=input(\"Please enter a password: \")\n",
        "  else:\n",
        "    return(password)\n",
        "\n",
        "print(get_password()) #This ending was here from the beginning. I don't understand this function completion format."
      ]
    },
    {
      "cell_type": "markdown",
      "metadata": {
        "id": "p_CkC4wNURFH"
      },
      "source": [
        "---\n",
        "### Exercise 2 - capitalise username\n",
        "\n",
        "Write a function called **get_username()** which will:  \n",
        "\n",
        "*  ask the user for a **username**  \n",
        "*  convert the `username` to upper case and assign the new value to a variable called **username_upper**   \n",
        "* if `username_upper` is \"ADMINUSER1\" then return \"Valid user\", otherwise return \"Invalid username\".  The calling program will print the message.  \n",
        "\n",
        "Test input:  \n",
        "admin\n",
        "\n",
        "Expected output:  \n",
        "Invalid username\n",
        "\n",
        "Test input:  \n",
        "AdminUser1\n",
        "\n",
        "Expected output:  \n",
        "Valid user  \n"
      ]
    },
    {
      "cell_type": "code",
      "execution_count": 7,
      "metadata": {
        "id": "GwQ62wpDUS01",
        "colab": {
          "base_uri": "https://localhost:8080/"
        },
        "outputId": "71e457f1-4283-4fea-ca7f-da6f19bc2300"
      },
      "outputs": [
        {
          "output_type": "stream",
          "name": "stdout",
          "text": [
            "Please enter a username: AdminUser1\n",
            "Valid user\n"
          ]
        }
      ],
      "source": [
        "def get_username():\n",
        "  # add your code below here\n",
        "  username=input(\"Please enter a username: \")\n",
        "  username_upper=username.upper()\n",
        "  if username_upper==\"ADMINUSER1\":\n",
        "    return(\"Valid user\")\n",
        "  else:\n",
        "    return(\"Invalid username\")\n",
        "\n",
        "print(get_username())"
      ]
    },
    {
      "cell_type": "markdown",
      "metadata": {
        "id": "dz5MgKXdUUMo"
      },
      "source": [
        "---\n",
        "### Exercise 3 - select correct message\n",
        "\n",
        "Write a function called **get_credentials()** which will:  \n",
        "\n",
        "*  ask the user for a **username**  \n",
        "*  ask the user for a **password**  \n",
        "*  return one of the following messages:\n",
        "*  *  \"Credentials accepted\"  \n",
        "*  *  \"Invalid user\"  \n",
        "*  *  \"Password too short\"  \n",
        "\n",
        "Note:  `username` must be \"AdminUser1\" and the password must be at least 8 characters.  The calling program will print the message.  \n",
        "\n",
        "Test input:  \n",
        "AdminUser1\n",
        "abc999def\n",
        "\n",
        "Expected output:  \n",
        "Credentials accepted\n",
        "\n",
        "Test input:  \n",
        "AdminUser1\n",
        "abc\n",
        "\n",
        "Expected output:  \n",
        "Password too short  \n",
        "\n",
        "Test input:  \n",
        "User1\n",
        "abc999def\n",
        "\n",
        "Expected output:  \n",
        "Invalid user  "
      ]
    },
    {
      "cell_type": "code",
      "execution_count": 11,
      "metadata": {
        "id": "Ts6208g_UU9a",
        "colab": {
          "base_uri": "https://localhost:8080/"
        },
        "outputId": "be3bfe46-1931-4bb4-f7fb-27bade957c20"
      },
      "outputs": [
        {
          "output_type": "stream",
          "name": "stdout",
          "text": [
            "Please enter username: User1\n",
            "Please enter password: abc999def\n",
            "Invalid user\n"
          ]
        }
      ],
      "source": [
        "def get_credentials(): #with return option\n",
        "  username=input(\"Please enter username: \")\n",
        "  password=input(\"Please enter password: \")\n",
        "  if username==\"AdminUser1\" and len(password)>=8:\n",
        "    return(\"Credentials accepted\")\n",
        "  elif username!=\"AdminUser1\":\n",
        "    return(\"Invalid user\")\n",
        "  elif len(password)<8:\n",
        "    return(\"Password too short\")\n",
        "print(get_credentials())"
      ]
    },
    {
      "cell_type": "code",
      "source": [
        "def get_credentials(): #with print option\n",
        "  username=input(\"Please enter username: \")\n",
        "  password=input(\"Please enter password: \")\n",
        "  if username==\"AdminUser1\" and len(password)>=8:\n",
        "    print(\"Credentials accepted\")\n",
        "  elif username!=\"AdminUser1\":\n",
        "    print(\"Invalid user\")\n",
        "  elif len(password)<8:\n",
        "    print(\"Password too short\")\n",
        "get_credentials()"
      ],
      "metadata": {
        "colab": {
          "base_uri": "https://localhost:8080/"
        },
        "id": "RzFv3ddNWixU",
        "outputId": "136e57c9-afce-474b-804c-75ececb3833f"
      },
      "execution_count": 14,
      "outputs": [
        {
          "output_type": "stream",
          "name": "stdout",
          "text": [
            "Please enter username: User1\n",
            "Please enter password: abc999def\n",
            "Invalid user\n"
          ]
        }
      ]
    },
    {
      "cell_type": "markdown",
      "metadata": {
        "id": "X_--igvaUVwM"
      },
      "source": [
        "---\n",
        "### Exercise 4 - round to given dp\n",
        "\n",
        "Write a function called **get_rounded_float()** which will:  \n",
        "\n",
        "*  ask the user for a decimal **number**  \n",
        "*  ask the user for a number of **places** to round to  \n",
        "*  return the number rounded to the requested number of decimal places\n",
        "\n",
        "Note:  The calling program will print the number.  \n",
        "\n",
        "Test input:  \n",
        "3.14159  \n",
        "2\n",
        "\n",
        "Expected output:  \n",
        "3.14  \n",
        "\n",
        "Test input:  \n",
        "98.6666666666666  \n",
        "4  \n",
        "\n",
        "Expected output:  \n",
        "98.6667  "
      ]
    },
    {
      "cell_type": "code",
      "execution_count": 19,
      "metadata": {
        "id": "YxWVW-tCUWi0",
        "colab": {
          "base_uri": "https://localhost:8080/"
        },
        "outputId": "59b07eb6-992d-4234-a807-d8972cabb632"
      },
      "outputs": [
        {
          "output_type": "stream",
          "name": "stdout",
          "text": [
            "Please enter a decimal number: 98.6666666666\n",
            "How many decimal places it should be rounded? 4\n",
            "98.6667\n"
          ]
        }
      ],
      "source": [
        "def get_rounded_float():\n",
        "  number=float(input(\"Please enter a decimal number: \"))\n",
        "  places=int(input(\"How many decimal places it should be rounded? \"))\n",
        "  number=round(number, places)\n",
        "  return(number)\n",
        "print(get_rounded_float())"
      ]
    },
    {
      "cell_type": "markdown",
      "metadata": {
        "id": "_3cAVG4dUdNy"
      },
      "source": [
        "---\n",
        "### Exercise 5 - round or not\n",
        "\n",
        "Write a function called **get_rounded_float()** which will:  \n",
        "\n",
        "*  ask the user for a decimal **number**  \n",
        "*  ask the user if they would like to round the number (Y or N) assign this value to **round_number**\n",
        "*  if `round_number` is \"Y\", then ask the user for a number of **places** to round to and return the number rounded to the required number of decimal places  \n",
        "*  otherwise, return the number as it was typed in\n",
        "\n",
        "Note:  The calling program will print the number.  \n",
        "\n",
        "Test input:  \n",
        "3.14159  \n",
        "Y  \n",
        "3\n",
        "\n",
        "Expected output:  \n",
        "3.142\n",
        "\n",
        "Test input:  \n",
        "98.6666666666666  \n",
        "N\n",
        "\n",
        "Expected output:  \n",
        "98.6666666666666  "
      ]
    },
    {
      "cell_type": "code",
      "execution_count": 18,
      "metadata": {
        "id": "37yoNHUMUfU1",
        "colab": {
          "base_uri": "https://localhost:8080/"
        },
        "outputId": "3620a091-6f5b-4792-c2e1-05ad599dd534"
      },
      "outputs": [
        {
          "output_type": "stream",
          "name": "stdout",
          "text": [
            "Please enter a decimal number: 98.6666666666\n",
            "Would you like to round the number (Y or N): N\n",
            "98.6666666666\n"
          ]
        }
      ],
      "source": [
        "def get_rounded_float():\n",
        "  number=float(input(\"Please enter a decimal number: \"))\n",
        "  round_number=input(\"Would you like to round the number (Y or N): \")\n",
        "  if round_number==\"Y\":\n",
        "    places=int(input(\"How many decimal places it should be rounded? \"))\n",
        "    number=round(number, places)\n",
        "    return(number)\n",
        "  else:\n",
        "    return(number)\n",
        "print(get_rounded_float())"
      ]
    },
    {
      "cell_type": "markdown",
      "metadata": {
        "id": "3QKlC5GSUgpR"
      },
      "source": [
        "---\n",
        "### Exercise 6 - random number and places\n",
        "\n",
        "Write a function called **generate_rounded_float()** which will:  \n",
        "\n",
        "*  import the functions uniform and randint from random (from random import uniform, randint)    \n",
        "Note *: the uniform function will generate a random float between two given boundary numbers ( e.g. number = uniform(10,20)).  It is better practice to name the functions you will be using from a library rather than importing the whole library, which could be large*  \n",
        "\n",
        "*  generate a random decimal **number** between 1 and 100   \n",
        "*  print the `number`   \n",
        "*  generate a random integer **places** between 1 and 4\n",
        "*  print `places`\n",
        "*  return the `number` rounded to the given number of `places`\n",
        "\n",
        "Note **bold text**:  The calling program will print the number.  \n",
        "\n",
        "**Example 1:**  \n",
        "Random number is 3.14159  \n",
        "Number of places is 3  \n",
        "\n",
        "Expected result: 3.142\n",
        "\n",
        "**Example 2**:  \n",
        "Random number is 98.6666666666666  \n",
        "Number of places is 4  \n",
        "\n",
        "Expected result: 98.6667"
      ]
    },
    {
      "cell_type": "code",
      "execution_count": 22,
      "metadata": {
        "id": "QM4vQcY9Uh2D",
        "colab": {
          "base_uri": "https://localhost:8080/"
        },
        "outputId": "22307c62-fb74-4cf3-b55e-6e9f71eb34f4"
      },
      "outputs": [
        {
          "output_type": "stream",
          "name": "stdout",
          "text": [
            "Random number is 94.66676768025353\n",
            "Number of places is 3\n",
            "94.667\n"
          ]
        }
      ],
      "source": [
        "from random import uniform, randint\n",
        "\n",
        "def generate_rounded_float():\n",
        "  number=uniform(1,100)\n",
        "  print(\"Random number is\", number)\n",
        "  places=randint(1,4)\n",
        "  print(\"Number of places is\", places)\n",
        "  number=round(number, places)\n",
        "  return(number)\n",
        "print(generate_rounded_float())"
      ]
    }
  ],
  "metadata": {
    "colab": {
      "provenance": [],
      "include_colab_link": true
    },
    "kernelspec": {
      "display_name": "Python 3",
      "name": "python3"
    },
    "language_info": {
      "name": "python"
    }
  },
  "nbformat": 4,
  "nbformat_minor": 0
}